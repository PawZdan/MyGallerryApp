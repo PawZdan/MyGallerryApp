{
 "cells": [
  {
   "cell_type": "markdown",
   "metadata": {},
   "source": [
    "# Aplikacja znajdywacz zdjęć"
   ]
  },
  {
   "cell_type": "markdown",
   "metadata": {},
   "source": [
    "## Specyfikacja / Specs\n",
    "\n",
    "* użytkownik może przesłać zdjęcie lub wiele zdjęć.\n",
    "* zdjęcia są zapisywane, a następnie przetwarzane.\n",
    "* opisy zdjęć są zapisywane w bazie danych takiej jak QDrant.\n",
    "* użytkownik może wyszukać zdjęcia na podstawie opisu."
   ]
  },
  {
   "cell_type": "markdown",
   "metadata": {},
   "source": [
    "## Architektura\n",
    "\n",
    "![](27__app_image_finder.excalidraw.png)"
   ]
  },
  {
   "cell_type": "markdown",
   "metadata": {},
   "source": [
    "## Plan / Taski\n",
    "* v1 - przesyłanie i zapisywanie zdjęć\n",
    "* v2 - przetwarzanie zdjęć do opisu\n",
    "* v3 - opis do embedding i zapisywanie do bazy danych\n",
    "* v4 - wyszukiwanie zdjęć na podstawie opisu"
   ]
  },
  {
   "cell_type": "markdown",
   "metadata": {},
   "source": [
    "## Zależności\n",
    "* `streamlit` - do budowy interfejsu użytkownika.\n",
    "* `openai` i modelu `gpt-4o` - do generowania opisu zdjęcia.\n",
    "* `dotenv` - do przechowywania klucza openai.\n",
    "* `openai` i modelu `text-embedding-3-large` - do uzyskania embeddings tekstu.\n",
    "* `qdrant` - do przechowywania i wyszukiwania tekstu i embeddings (jako bazy danych)."
   ]
  },
  {
   "cell_type": "markdown",
   "metadata": {},
   "source": [
    "## Instalujemy wymagane biblioteki (conda wymagana)\n",
    "\n",
    "- otwórz terminal\n",
    "- uruchom `conda activate od_zera_do_ai`\n",
    "- uruchom `conda config --append channels conda-forge`\n",
    "- uruchom `conda install -y streamlit ffmpeg qdrant-client openai==1.47.0 python-dotenv`"
   ]
  },
  {
   "cell_type": "markdown",
   "metadata": {},
   "source": [
    "## FAQ\n",
    "\n",
    "### Co zrobić w sytuacji, gdy mam pytania odnośnie projektu?\n",
    "\n",
    "Każdy projekt ma dedykowany kanał na discordzie, ten projekt ma kanał `#projekt-app_image_finder`. W razie pytań, zapraszam do zadawania ich na kanale.\n",
    "\n",
    "### Gdzie przesłać link do projektu?\n",
    "\n",
    "Na kanał `#projekt-app_image_finder` na discordzie proszę o wysłanie:\n",
    "* Linku do aplikacji — aplikacja powinna być wdrożona i dostępna publicznie.\n",
    "* Linku do repozytorium z kodem źródłowym (GitHub)\n",
    "\n",
    "### Jakie są kryteria oceny projektu?\n",
    "\n",
    "* Czy aplikacja działa?\n",
    "* Czy aplikacja spełnia założenia projektu?\n",
    "* Czy aplikacja jest wdrożona i publicznie dostępna?\n",
    "\n",
    "### Jakie są terminy?\n",
    "\n",
    "* nie ma, projekt jest otwarty i można go wykonać w dowolnym momencie.\n",
    "* możesz spokojnie zacząć projekt w tym module i pracować nad nim do końca kursu.\n",
    "\n",
    "### Czy mogę zmodyfikować założenia projektu?\n",
    "\n",
    "Tak, możesz dodać dodatkowe funkcjonalności, które nie są opisane w specyfikacji projektu. Możesz również zmodyfikować istniejące funkcjonalności.\n",
    "Jednak pamiętaj, że w takim przypadku jednoznacznie musisz to opisać w repozytorium projektu.\n",
    "Dodaj plik `README.md` w którym opiszesz zmiany względem specyfikacji projektu.\n",
    "\n",
    "### Czy mogę wykonać projekt w grupie?\n",
    "\n",
    "Tak jest, wówczas proszę o przesłanie listy osób, które pracowały nad projektem.\n",
    "\n",
    "### Czy mogę wykonać projekt w innej technologii?\n",
    "\n",
    "Tak, możesz wykonać projekt w innej technologii, ale pamiętaj, że wówczas musisz dostarczyć dodatkowe informacje jak zainstalować i uruchomić projekt.\n",
    "\n",
    "### Czy mogę pracować nad więcej niż jednym projektem?\n",
    "\n",
    "TAK! Zachęcam do pracy nad wieloma projektami. Każdy projekt to nowe wyzwanie i nowe umiejętności, które zdobędziesz.\n",
    "Po ukończeniu każdego z projektów twoim zadaniem będzie uzupełnienie Twojego portfolio o nowy projekt. Ale o tym dowiesz się w **Module 11**\n"
   ]
  }
 ],
 "metadata": {
  "kernelspec": {
   "display_name": "Python 3 (ipykernel)",
   "language": "python",
   "name": "python3"
  },
  "language_info": {
   "codemirror_mode": {
    "name": "ipython",
    "version": 3
   },
   "file_extension": ".py",
   "mimetype": "text/x-python",
   "name": "python",
   "nbconvert_exporter": "python",
   "pygments_lexer": "ipython3",
   "version": "3.11.9"
  }
 },
 "nbformat": 4,
 "nbformat_minor": 4
}
