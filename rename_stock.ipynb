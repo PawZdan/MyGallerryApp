{
 "cells": [
  {
   "cell_type": "code",
   "execution_count": 1,
   "id": "3688dcb0",
   "metadata": {},
   "outputs": [],
   "source": [
    "import os\n",
    "import base64\n",
    "from io import BytesIO\n",
    "from openai import OpenAI\n",
    "from dotenv import dotenv_values\n",
    "from PIL import Image\n",
    "from qdrant_client import QdrantClient\n",
    "from qdrant_client.models import PointStruct, VectorParams, Distance"
   ]
  },
  {
   "cell_type": "code",
   "execution_count": null,
   "id": "04291890",
   "metadata": {},
   "outputs": [],
   "source": []
  },
  {
   "cell_type": "code",
   "execution_count": 9,
   "id": "e6ef92f6",
   "metadata": {},
   "outputs": [
    {
     "name": "stdout",
     "output_type": "stream",
     "text": [
      "Przed renombracją: ['istockphoto-1047631772-612x612.jpg', 'istockphoto-1129381764-612x612.jpg', 'istockphoto-1148009067-612x612.jpg', 'istockphoto-1149146449-612x612.jpg', 'istockphoto-1149169860-612x612.jpg', 'istockphoto-1154085284-612x612.jpg', 'istockphoto-1154103408-612x612.jpg', 'istockphoto-1159164272-612x612.jpg', 'istockphoto-1162200486-612x612.jpg', 'istockphoto-1166145294-612x612.jpg', 'istockphoto-187494109-612x612.jpg', 'istockphoto-473082752-612x612.jpg', 'istockphoto-519183570-612x612.jpg', 'istockphoto-959149062-612x612.jpg', 'istockphoto-967315896-612x612.jpg']\n",
      "  -> tymczasowo: istockphoto-1047631772-612x612.jpg → __tmp__1.jpg\n",
      "  -> tymczasowo: istockphoto-1129381764-612x612.jpg → __tmp__2.jpg\n",
      "  -> tymczasowo: istockphoto-1148009067-612x612.jpg → __tmp__3.jpg\n",
      "  -> tymczasowo: istockphoto-1149146449-612x612.jpg → __tmp__4.jpg\n",
      "  -> tymczasowo: istockphoto-1149169860-612x612.jpg → __tmp__5.jpg\n",
      "  -> tymczasowo: istockphoto-1154085284-612x612.jpg → __tmp__6.jpg\n",
      "  -> tymczasowo: istockphoto-1154103408-612x612.jpg → __tmp__7.jpg\n",
      "  -> tymczasowo: istockphoto-1159164272-612x612.jpg → __tmp__8.jpg\n",
      "  -> tymczasowo: istockphoto-1162200486-612x612.jpg → __tmp__9.jpg\n",
      "  -> tymczasowo: istockphoto-1166145294-612x612.jpg → __tmp__10.jpg\n",
      "  -> tymczasowo: istockphoto-187494109-612x612.jpg → __tmp__11.jpg\n",
      "  -> tymczasowo: istockphoto-473082752-612x612.jpg → __tmp__12.jpg\n",
      "  -> tymczasowo: istockphoto-519183570-612x612.jpg → __tmp__13.jpg\n",
      "  -> tymczasowo: istockphoto-959149062-612x612.jpg → __tmp__14.jpg\n",
      "  -> tymczasowo: istockphoto-967315896-612x612.jpg → __tmp__15.jpg\n",
      "  → finalnie: __tmp__1.jpg → 1.jpg\n",
      "  → finalnie: __tmp__2.jpg → 2.jpg\n",
      "  → finalnie: __tmp__3.jpg → 3.jpg\n",
      "  → finalnie: __tmp__4.jpg → 4.jpg\n",
      "  → finalnie: __tmp__5.jpg → 5.jpg\n",
      "  → finalnie: __tmp__6.jpg → 6.jpg\n",
      "  → finalnie: __tmp__7.jpg → 7.jpg\n",
      "  → finalnie: __tmp__8.jpg → 8.jpg\n",
      "  → finalnie: __tmp__9.jpg → 9.jpg\n",
      "  → finalnie: __tmp__10.jpg → 10.jpg\n",
      "  → finalnie: __tmp__11.jpg → 11.jpg\n",
      "  → finalnie: __tmp__12.jpg → 12.jpg\n",
      "  → finalnie: __tmp__13.jpg → 13.jpg\n",
      "  → finalnie: __tmp__14.jpg → 14.jpg\n",
      "  → finalnie: __tmp__15.jpg → 15.jpg\n",
      "Po renombracji: ['1.jpg', '10.jpg', '11.jpg', '12.jpg', '13.jpg', '14.jpg', '15.jpg', '2.jpg', '3.jpg', '4.jpg', '5.jpg', '6.jpg', '7.jpg', '8.jpg', '9.jpg']\n"
     ]
    }
   ],
   "source": [
    "\n",
    "\n",
    "# 1) Ustaw poprawną ścieżkę do swojego folderu ze stock_photos:\n",
    "STOCK_DIR = r\"C:\\Users\\Paweł\\Desktop\\od zera do chuja\\modul 8\\mod_8_zad_1_image_finder\\stock_photo\"\n",
    "\n",
    "# 2) Pokaż co jest w folderze przed zmianą\n",
    "print(\"Przed renombracją:\", os.listdir(STOCK_DIR))\n",
    "\n",
    "def rename_stock():\n",
    "    # zbierz wszystkie pliki obrazkowe\n",
    "    files = [\n",
    "        f for f in os.listdir(STOCK_DIR)\n",
    "        if f.lower().endswith((\".png\", \".jpg\", \".jpeg\"))\n",
    "    ]\n",
    "    # zmienna pomocnicza, żeby uniknąć konfliktów nazw\n",
    "    temp_names = []\n",
    "    for idx, fname in enumerate(files, start=1):\n",
    "        old_path = os.path.join(STOCK_DIR, fname)\n",
    "        ext = os.path.splitext(fname)[1]        # np. \".png\"\n",
    "        tmp_name = f\"__tmp__{idx}{ext}\"\n",
    "        tmp_path = os.path.join(STOCK_DIR, tmp_name)\n",
    "        os.rename(old_path, tmp_path)\n",
    "        temp_names.append((tmp_name, idx))\n",
    "        print(f\"  -> tymczasowo: {fname} → {tmp_name}\")\n",
    "    \n",
    "    # zmiana z tymczasowych na docelowe\n",
    "    for tmp_name, idx in temp_names:\n",
    "        tmp_path = os.path.join(STOCK_DIR, tmp_name)\n",
    "        ext = os.path.splitext(tmp_name)[1]\n",
    "        new_name = f\"{idx}{ext}\"\n",
    "        new_path = os.path.join(STOCK_DIR, new_name)\n",
    "        os.rename(tmp_path, new_path)\n",
    "        print(f\"  → finalnie: {tmp_name} → {new_name}\")\n",
    "\n",
    "# 3) Uruchom funkcję\n",
    "rename_stock()\n",
    "\n",
    "# 4) Pokaż wynik\n",
    "print(\"Po renombracji:\", os.listdir(STOCK_DIR))"
   ]
  }
 ],
 "metadata": {
  "kernelspec": {
   "display_name": "od_zera_do_ai",
   "language": "python",
   "name": "python3"
  },
  "language_info": {
   "codemirror_mode": {
    "name": "ipython",
    "version": 3
   },
   "file_extension": ".py",
   "mimetype": "text/x-python",
   "name": "python",
   "nbconvert_exporter": "python",
   "pygments_lexer": "ipython3",
   "version": "3.11.11"
  }
 },
 "nbformat": 4,
 "nbformat_minor": 5
}
